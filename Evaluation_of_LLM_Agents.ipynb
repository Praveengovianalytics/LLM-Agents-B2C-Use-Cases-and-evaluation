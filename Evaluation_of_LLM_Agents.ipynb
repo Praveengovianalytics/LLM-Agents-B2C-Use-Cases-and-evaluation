{
  "cells": [
    {
      "cell_type": "markdown",
      "metadata": {
        "id": "g18wnlva4xz2"
      },
      "source": [
        "# Evaluation of LLM Agents ( LangChain )\n",
        "\n",
        "Agents are often useful in the RAG setting to retrieve real-time information to\n",
        "be used for question answering.\n",
        "\n",
        "This example utilizes the openai functions agent to reliably call and return\n",
        "structured responses from particular tools. Certain OpenAI models have been\n",
        "fine-tuned for this capability to detect when a particular function should be\n",
        "called and respond with the inputs requred for that function. Compared to a\n",
        "ReACT framework that generates reasoning and actions in an interleaving manner,\n",
        "this strategy can often be more reliable and consistent.\n",
        "\n",
        "In either case - as the questions change over time, different agents may be\n",
        "needed to retrieve the most useful context. In this example you will create a\n",
        "langchain agent and use TruLens to identify gaps in tool coverage. By quickly\n",
        "identifying this gap, we can quickly add the missing tools to the application\n",
        "and improve the quality of the answers.\n",
        "\n",
        "[![Open In\n",
        "Colab](https://colab.research.google.com/assets/colab-badge.svg)](https://colab.research.google.com/github/truera/trulens/blob/main/trulens_eval/examples/expositional/frameworks/langchain/langchain_agents.ipynb)"
      ]
    },
    {
      "cell_type": "markdown",
      "metadata": {
        "id": "RBf-3-aV4xz-"
      },
      "source": [
        "### Import from LangChain and TruLens"
      ]
    },
    {
      "cell_type": "markdown",
      "metadata": {
        "id": "LL9H-HWP4xz_"
      },
      "source": [
        "### Install additional packages\n",
        "\n",
        "In addition to trulens-eval and langchain, we will also need additional packages: `yfinance` and `google-search-results`."
      ]
    },
    {
      "cell_type": "code",
      "execution_count": null,
      "metadata": {
        "id": "nJHJHpw64x0B",
        "colab": {
          "base_uri": "https://localhost:8080/"
        },
        "outputId": "f42bd676-f41e-418f-8037-0e2a2d1cc930"
      },
      "outputs": [
        {
          "output_type": "stream",
          "name": "stdout",
          "text": [
            "\u001b[2K     \u001b[90m━━━━━━━━━━━━━━━━━━━━━━━━━━━━━━━━━━━━━━━━\u001b[0m \u001b[32m139.3/139.3 kB\u001b[0m \u001b[31m3.2 MB/s\u001b[0m eta \u001b[36m0:00:00\u001b[0m\n",
            "\u001b[2K     \u001b[90m━━━━━━━━━━━━━━━━━━━━━━━━━━━━━━━━━━━━━━━━\u001b[0m \u001b[32m12.0/12.0 MB\u001b[0m \u001b[31m24.3 MB/s\u001b[0m eta \u001b[36m0:00:00\u001b[0m\n",
            "\u001b[2K     \u001b[90m━━━━━━━━━━━━━━━━━━━━━━━━━━━━━━━━━━━━━━━━\u001b[0m \u001b[32m82.1/82.1 kB\u001b[0m \u001b[31m8.2 MB/s\u001b[0m eta \u001b[36m0:00:00\u001b[0m\n",
            "\u001b[?25h"
          ]
        }
      ],
      "source": [
        "! pip install \\\n",
        "    \"boto3\" \\\n",
        "    \"litellm\" \\\n",
        "    \"trulens_eval==0.20.2\" \\\n",
        "    \"langchain>=0.0.248\" \\\n",
        "    \"openai>=1.0\" \\\n",
        "    \"yfinance>=0.2.27\" \\\n",
        "    \"google-search-results>=2.4.2\" -q"
      ]
    },
    {
      "cell_type": "code",
      "execution_count": 38,
      "metadata": {
        "id": "flUksJ8N4x0E"
      },
      "outputs": [],
      "source": [
        "from trulens_eval import Feedback\n",
        "from trulens_eval import Tru\n",
        "from trulens_eval import TruChain\n",
        "from trulens_eval.feedback import OpenAI as fOpenAI\n",
        "\n",
        "tru = Tru()\n",
        "\n",
        "from datetime import datetime\n",
        "from datetime import timedelta\n",
        "from typing import Type\n",
        "\n",
        "from langchain import SerpAPIWrapper\n",
        "from langchain.agents import AgentType\n",
        "from langchain.agents import initialize_agent\n",
        "from langchain.agents import Tool\n",
        "from langchain.chat_models import ChatOpenAI\n",
        "from langchain.tools import BaseTool\n",
        "\n",
        "import openai\n",
        "from pydantic import BaseModel\n",
        "from pydantic import Field\n",
        "import yfinance as yf"
      ]
    },
    {
      "cell_type": "markdown",
      "metadata": {
        "id": "xG2aPOXx4x0E"
      },
      "source": [
        "## Setup\n",
        "### Add API keys\n",
        "For this quickstart you will need Open AI and SERP API keys."
      ]
    },
    {
      "cell_type": "code",
      "execution_count": 39,
      "metadata": {
        "id": "--lig-G14x0F"
      },
      "outputs": [],
      "source": [
        "import os\n",
        "os.environ[\"OPENAI_API_KEY\"] = \"XXXXXXXXXXXXXXXXXXXXXXXXXXXXXXXXXXXXXXXXXXXXXXXX\"\n",
        "os.environ[\"SERPAPI_API_KEY\"] = \"XXXXXXXXXXXXXXXXXXXXXXXXXXXXXXXXXXXXXXXXXXXXXXXXXXXXX\""
      ]
    },
    {
      "cell_type": "markdown",
      "metadata": {
        "id": "zWd11Jqp4x0G"
      },
      "source": [
        "### Create agent with search tool"
      ]
    },
    {
      "cell_type": "code",
      "execution_count": 40,
      "metadata": {
        "id": "1IGPBaQv4x0H"
      },
      "outputs": [],
      "source": [
        "search = SerpAPIWrapper()\n",
        "search_tool = Tool(\n",
        "    name=\"Search\",\n",
        "    func=search.run,\n",
        "    description=\"useful for when you need to answer questions about current events\"\n",
        ")\n",
        "\n",
        "llm = ChatOpenAI(model=\"gpt-3.5-turbo\", temperature=0)\n",
        "\n",
        "tools = [search_tool]\n",
        "\n",
        "agent = initialize_agent(\n",
        "    tools, llm,\n",
        "    agent=AgentType.OPENAI_FUNCTIONS,\n",
        "    verbose=True\n",
        ")"
      ]
    },
    {
      "cell_type": "markdown",
      "metadata": {
        "id": "2RgWm_I-4x0I"
      },
      "source": [
        "### Set up Evaluation"
      ]
    },
    {
      "cell_type": "code",
      "execution_count": 42,
      "metadata": {
        "id": "4JDr3i1D4x0J",
        "colab": {
          "base_uri": "https://localhost:8080/"
        },
        "outputId": "37972872-a877-49fe-f6cb-4812ba330d08"
      },
      "outputs": [
        {
          "output_type": "stream",
          "name": "stdout",
          "text": [
            "✅ In no_answer_feedback, input question will be set to __record__.main_input or `Select.RecordInput` .\n",
            "✅ In no_answer_feedback, input response will be set to __record__.main_output or `Select.RecordOutput` .\n"
          ]
        }
      ],
      "source": [
        "class OpenAI_custom(fOpenAI):\n",
        "    def no_answer_feedback(self, question: str, response: str) -> float:\n",
        "        return float(self.endpoint.client.chat.completions.create(\n",
        "    model=\"gpt-3.5-turbo\",\n",
        "    messages=[\n",
        "            {\"role\": \"system\", \"content\": \"Does the RESPONSE provide an answer to the QUESTION? Rate on a scale of 1 to 10. Respond with the number only.\"},\n",
        "            {\"role\": \"user\", \"content\": f\"QUESTION: {question}; RESPONSE: {response}\"}\n",
        "        ]\n",
        "    ).choices[0].message.content) / 10\n",
        "\n",
        "custom = OpenAI_custom()\n",
        "\n",
        "# No answer feedback (custom)\n",
        "f_no_answer = Feedback(custom.no_answer_feedback).on_input_output()"
      ]
    },
    {
      "cell_type": "code",
      "execution_count": 44,
      "metadata": {
        "id": "n5cviFab4x0J"
      },
      "outputs": [],
      "source": [
        "tru_agent = TruChain(\n",
        "    agent,\n",
        "    app_id=\"Search_Agent\",\n",
        "    feedbacks = [f_no_answer]\n",
        ")"
      ]
    },
    {
      "cell_type": "code",
      "execution_count": 45,
      "metadata": {
        "id": "bmOMLG3d4x0K",
        "colab": {
          "base_uri": "https://localhost:8080/"
        },
        "outputId": "4bc8cccd-5304-45f9-e1fa-f83878925383"
      },
      "outputs": [
        {
          "output_type": "stream",
          "name": "stdout",
          "text": [
            "\n",
            "\n",
            "\u001b[1m> Entering new AgentExecutor chain...\u001b[0m\n",
            "\u001b[32;1m\u001b[1;3m\n",
            "Invoking: `Search` with `company that acquired MosaicML`\n",
            "\n",
            "\n",
            "\u001b[0m\u001b[36;1m\u001b[1;3mDatabricks\u001b[0m\u001b[32;1m\u001b[1;3mDatabricks acquired MosaicML.\u001b[0m\n",
            "\n",
            "\u001b[1m> Finished chain.\u001b[0m\n",
            "\n",
            "\n",
            "\u001b[1m> Entering new AgentExecutor chain...\u001b[0m\n",
            "\u001b[32;1m\u001b[1;3mThe best way to travel from New York City (NYC) to Los Angeles (LA) depends on your preferences and budget. Here are some common options:\n",
            "\n",
            "1. **Flight**: The fastest way to travel between NYC and LA is by taking a direct flight. Several airlines offer non-stop flights between the two cities, which can take around 5-6 hours.\n",
            "\n",
            "2. **Train**: If you prefer a more scenic route, you can take an Amtrak train from NYC to LA. The journey takes around 2-3 days and offers beautiful views of the countryside.\n",
            "\n",
            "3. **Bus**: Taking a bus is a more budget-friendly option, but it also takes longer than flying or taking the train. Several bus companies offer routes between NYC and LA.\n",
            "\n",
            "4. **Driving**: If you enjoy road trips, you can drive from NYC to LA. The journey takes around 40-45 hours, depending on the route you take and the stops you make along the way.\n",
            "\n",
            "Consider factors such as cost, time, comfort, and convenience when choosing the best way to travel from NYC to LA.\u001b[0m\n",
            "\n",
            "\u001b[1m> Finished chain.\u001b[0m\n",
            "\n",
            "\n",
            "\u001b[1m> Entering new AgentExecutor chain...\u001b[0m\n",
            "\u001b[32;1m\u001b[1;3mThe change in the exchange rate during 2021 can have various effects on US-based companies, including their stock prices. Here are some ways in which the exchange rate fluctuations can impact US companies:\n",
            "\n",
            "1. **Export and Import Costs**: A stronger US dollar can make US exports more expensive for foreign buyers, leading to lower demand for US products. Conversely, a weaker dollar can make US exports more competitive in international markets. This can impact the revenue and profitability of US companies that rely heavily on exports or imports.\n",
            "\n",
            "2. **Earnings from Overseas Operations**: US companies with significant operations or sales in foreign markets may see fluctuations in their earnings due to changes in exchange rates. A stronger dollar can reduce the value of earnings generated in foreign currencies when converted back to US dollars, potentially impacting stock prices.\n",
            "\n",
            "3. **Competitive Position**: Exchange rate fluctuations can affect the competitive position of US companies relative to their foreign competitors. A stronger dollar can make imports cheaper for US consumers, potentially hurting domestic companies that compete with foreign products.\n",
            "\n",
            "4. **Investor Sentiment**: Exchange rate movements can also influence investor sentiment and market dynamics. Changes in exchange rates can impact investor confidence in the US economy and the outlook for US companies, which can in turn affect stock prices.\n",
            "\n",
            "Overall, the impact of exchange rate changes on US-based companies and their stock prices can vary depending on the specific industry, market conditions, and company-specific factors. It is important for investors to consider these factors when analyzing the effects of exchange rate fluctuations on stock prices.\u001b[0m\n",
            "\n",
            "\u001b[1m> Finished chain.\u001b[0m\n",
            "\n",
            "\n",
            "\u001b[1m> Entering new AgentExecutor chain...\u001b[0m\n",
            "\u001b[32;1m\u001b[1;3m\n",
            "Invoking: `Search` with `stock performance of Google`\n",
            "\n",
            "\n",
            "\u001b[0m\u001b[36;1m\u001b[1;3m{'type': 'finance_results', 'exchange': 'NASDAQ', 'stock': ' GOOG', 'currency': 'USD', 'price': 140.77, 'previous_close': 139.62}\u001b[0m\u001b[32;1m\u001b[1;3m\n",
            "Invoking: `Search` with `stock performance of Microsoft`\n",
            "\n",
            "\n",
            "\u001b[0m\u001b[36;1m\u001b[1;3m{'type': 'finance_results', 'title': 'Microsoft Corp', 'exchange': 'NASDAQ', 'stock': ' MSFT', 'currency': 'USD', 'price': 415.1, 'previous_close': 415.28}\u001b[0m\u001b[32;1m\u001b[1;3mThe current stock price of Google (GOOG) is $140.77, and the previous close was $139.62. \n",
            "The current stock price of Microsoft (MSFT) is $415.10, and the previous close was $415.28.\n",
            "\n",
            "To compare the stock performance, we can calculate the percentage change in stock price from the previous close. \n",
            "\n",
            "For Google:\n",
            "Percentage Change = ((Current Price - Previous Close) / Previous Close) * 100\n",
            "Percentage Change = (($140.77 - $139.62) / $139.62) * 100\n",
            "Percentage Change ≈ 0.82%\n",
            "\n",
            "For Microsoft:\n",
            "Percentage Change = ((Current Price - Previous Close) / Previous Close) * 100\n",
            "Percentage Change = (($415.10 - $415.28) / $415.28) * 100\n",
            "Percentage Change ≈ -0.04%\n",
            "\n",
            "In this comparison, Google's stock price increased by approximately 0.82%, while Microsoft's stock price decreased by approximately 0.04% from the previous close.\u001b[0m\n",
            "\n",
            "\u001b[1m> Finished chain.\u001b[0m\n",
            "\n",
            "\n",
            "\u001b[1m> Entering new AgentExecutor chain...\u001b[0m\n",
            "\u001b[32;1m\u001b[1;3m\n",
            "Invoking: `Search` with `highest market cap airline that flies from Los Angeles to New York City`\n",
            "responded: I can help you find the highest market cap airline that flies from Los Angeles to New York City. Let me look that up for you.\n",
            "\n",
            "\u001b[0m\u001b[36;1m\u001b[1;3m['Name, M. Cap, Price, 1d, Price (30 days), C. favorite icon, 1. Ryanair logo. Ryanair. 1RYAAY. $31.65 B. $138.83. 0.04%. 0.04%, Ireland. favorite icon ...', 'With approximately 14 million scheduled seats, JetBlue (B6) has established itself as one of the prominent airlines in New York City. Renowned ...', 'Delta Air Lines ranks first by revenue, total assets, market capitalization, and brand value. American Airlines Group ranks first by number of employees and ...', \"According to data from Cirium's Diio, Southwest Airlines leads the way (measured by total seats this quarter). Measured by available seat miles ...\", 'The top shareholders of American Airlines are W. Douglas Parker, Robert D. Isom, Stephen L. Johnson, Vanguard Group, Primecap Management Company, and ...', '6. American Airlines: New York (JFK) - Los Angeles (LAX) ... The flagship domestic route for American Airlines earned it $661,739,788 during the ...', 'Delta has hubs in Boston, Detroit, Los Angeles, Minneapolis / St Paul, New York, Salt Lake City, and Seattle in the US, as well as Amsterdam in ...', '1. Etihad Guest Makes It Easy to Fly American Airlines · 2. Book Delta Air Lines Tickets With Virgin Atlantic · 3. Use Star Alliance Partners To ...', 'Four airlines headquartered in the U.S. are amongst the top ranks of the largest airlines by passengers in 2022.', 'Delta and United beat out American in several critical areas of service and experience, with Delta leading overall. JT Genter. By JT Genter.']\u001b[0m\u001b[32;1m\u001b[1;3mThe airline with the highest market cap that flies from Los Angeles to New York City is Delta Air Lines. Delta Air Lines ranks first by revenue, total assets, market capitalization, and brand value.\u001b[0m\n",
            "\n",
            "\u001b[1m> Finished chain.\u001b[0m\n",
            "\n",
            "\n",
            "\u001b[1m> Entering new AgentExecutor chain...\u001b[0m\n",
            "\u001b[32;1m\u001b[1;3m\n",
            "Invoking: `Search` with `top smartphone producers by stock price`\n",
            "\n",
            "\n",
            "\u001b[0m\u001b[36;1m\u001b[1;3m['The global smartphone market grew by 7% YoY to reach 323.2 million units in Q4 2023. Apple grew by 2% YoY, overtaking Samsung for the top spot.', 'Quarterly smartphone market share worldwide by vendor 2009-2023 · Samsung and Apple smartphone sales · Huawei falls outside the leading five ...', '1. Apple. 80.5. 24.7%. 72.1. 24.0%. 11.6% · 2. Samsung. 53.0. 16.3%. 59.5. 19.8%. -10.9% · 3. Xiaomi. 40.7. 12.5%. 33.2. 11.0%. 22.7% · 4.', 'This graph shows the market share of mobile vendors worldwide from Feb 2023 - Feb 2024. Apple has 27.84%, Samsung has 23.77% and Xiaomi has 11.74%.', 'As of January 2024, Apple has the biggest smartphone market share worldwide, with 29.27%. This is followed by Samsung, Xiaomi, Oppo, Vivo, and Realme.', 'Biggest Smartphone Companies in the World in 2023 · 16. HTC Corporation (TPE:2498) · 15. Realme · 14. Tecno Mobile · 13. ASUS (TWSE:2357) · 12. Honor.', \"Apple ended Samsung Electronics' 12-year run as the largest seller of smartphones in the world, after commanding a 20% share of the market ...\", 'Motorola has the third-largest smartphone market share, with 3.5%. This is followed by Google, with 2.37%, and Xiaomi, with 1.16%. The combined smartphone ...', \"Global smartphone market grows 8% in Q4, with Apple the year's top vendor for the first time ; Samsung. 17%. 20% ; Xiaomi. 13%. 11% ; TRANSSION. 9%.\", '1. Samsung (SSNLF) · 2. Huawei · 3. Apple. · 4. Xiaomi · 5. Oppo ...']\u001b[0m\u001b[32;1m\u001b[1;3mThe company with the highest stock price among smartphone producers is Apple. Their current stock price is $80.5.\u001b[0m\n",
            "\n",
            "\u001b[1m> Finished chain.\u001b[0m\n"
          ]
        }
      ],
      "source": [
        "prompts = [\n",
        "    \"What company acquired MosaicML?\",\n",
        "    \"What's the best way to travel from NYC to LA?\",\n",
        "    \"How did the change in the exchange rate during 2021 affect the stock price of US based companies?\",\n",
        "    \"Compare the stock performance of Google and Microsoft\",\n",
        "    \"What is the highest market cap airline that flies from Los Angeles to New York City?\",\n",
        "    \"I'm interested in buying a new smartphone from the producer with the highest stock price. Which company produces the smartphone I should by and what is their current stock price?\"\n",
        "]\n",
        "\n",
        "with tru_agent as recording:\n",
        "    for prompt in prompts:\n",
        "        agent(prompt)"
      ]
    },
    {
      "cell_type": "markdown",
      "metadata": {
        "id": "tvj8wZse4x0K"
      },
      "source": [
        "After running the first set of prompts, we notice that our agent is struggling with questions around stock performance.\n",
        "\n",
        "In response, we can create some custom tools that use yahoo finance to get stock performance information."
      ]
    },
    {
      "cell_type": "markdown",
      "metadata": {
        "id": "y0NzLzJK4x0K"
      },
      "source": [
        "### Define custom functions"
      ]
    },
    {
      "cell_type": "code",
      "execution_count": 46,
      "metadata": {
        "id": "lIXQOgSY4x0L"
      },
      "outputs": [],
      "source": [
        "def get_current_stock_price(ticker):\n",
        "    \"\"\"Method to get current stock price\"\"\"\n",
        "\n",
        "    ticker_data = yf.Ticker(ticker)\n",
        "    recent = ticker_data.history(period=\"1d\")\n",
        "    return {\"price\": recent.iloc[0][\"Close\"], \"currency\": ticker_data.info[\"currency\"]}\n",
        "\n",
        "\n",
        "def get_stock_performance(ticker, days):\n",
        "    \"\"\"Method to get stock price change in percentage\"\"\"\n",
        "\n",
        "    past_date = datetime.today() - timedelta(days=days)\n",
        "    ticker_data = yf.Ticker(ticker)\n",
        "    history = ticker_data.history(start=past_date)\n",
        "    old_price = history.iloc[0][\"Close\"]\n",
        "    current_price = history.iloc[-1][\"Close\"]\n",
        "    return {\"percent_change\": ((current_price - old_price) / old_price) * 100}"
      ]
    },
    {
      "cell_type": "markdown",
      "metadata": {
        "id": "boW-RpOu4x0L"
      },
      "source": [
        "### Make custom tools"
      ]
    },
    {
      "cell_type": "code",
      "execution_count": 47,
      "metadata": {
        "id": "4DDzHcnC4x0L"
      },
      "outputs": [],
      "source": [
        "class CurrentStockPriceInput(BaseModel):\n",
        "    \"\"\"Inputs for get_current_stock_price\"\"\"\n",
        "\n",
        "    ticker: str = Field(description=\"Ticker symbol of the stock\")\n",
        "\n",
        "\n",
        "class CurrentStockPriceTool(BaseTool):\n",
        "    name = \"get_current_stock_price\"\n",
        "    description = \"\"\"\n",
        "        Useful when you want to get current stock price.\n",
        "        You should enter the stock ticker symbol recognized by the yahoo finance\n",
        "        \"\"\"\n",
        "    args_schema: Type[BaseModel] = CurrentStockPriceInput\n",
        "\n",
        "    def _run(self, ticker: str):\n",
        "        price_response = get_current_stock_price(ticker)\n",
        "        return price_response\n",
        "\n",
        "current_stock_price_tool = CurrentStockPriceTool()\n",
        "\n",
        "class StockPercentChangeInput(BaseModel):\n",
        "    \"\"\"Inputs for get_stock_performance\"\"\"\n",
        "\n",
        "    ticker: str = Field(description=\"Ticker symbol of the stock\")\n",
        "    days: int = Field(description=\"Timedelta days to get past date from current date\")\n",
        "\n",
        "\n",
        "class StockPerformanceTool(BaseTool):\n",
        "    name = \"get_stock_performance\"\n",
        "    description = \"\"\"\n",
        "        Useful when you want to check performance of the stock.\n",
        "        You should enter the stock ticker symbol recognized by the yahoo finance.\n",
        "        You should enter days as number of days from today from which performance needs to be check.\n",
        "        output will be the change in the stock price represented as a percentage.\n",
        "        \"\"\"\n",
        "    args_schema: Type[BaseModel] = StockPercentChangeInput\n",
        "\n",
        "    def _run(self, ticker: str, days: int):\n",
        "        response = get_stock_performance(ticker, days)\n",
        "        return response\n",
        "\n",
        "stock_performance_tool = StockPerformanceTool()"
      ]
    },
    {
      "cell_type": "markdown",
      "metadata": {
        "id": "6bkZddQi4x0M"
      },
      "source": [
        "### Give our agent the new finance tools"
      ]
    },
    {
      "cell_type": "code",
      "execution_count": 48,
      "metadata": {
        "id": "MvpCijQE4x0M"
      },
      "outputs": [],
      "source": [
        "tools = [search_tool, current_stock_price_tool, stock_performance_tool]\n",
        "\n",
        "agent = initialize_agent(tools, llm, agent=AgentType.OPENAI_FUNCTIONS, verbose=True)"
      ]
    },
    {
      "cell_type": "markdown",
      "metadata": {
        "id": "0lRgje_f4x0M"
      },
      "source": [
        "### Set up Tracking + Eval"
      ]
    },
    {
      "cell_type": "code",
      "execution_count": 49,
      "metadata": {
        "id": "1yvyBVc54x0N"
      },
      "outputs": [],
      "source": [
        "tru_agent = TruChain(agent, app_id = \"Search_Agent_v2\", feedbacks = [f_no_answer])"
      ]
    },
    {
      "cell_type": "markdown",
      "metadata": {
        "id": "yBJeddW64x0N"
      },
      "source": [
        "## Test the new agent"
      ]
    },
    {
      "cell_type": "code",
      "execution_count": 50,
      "metadata": {
        "id": "fFCHJjID4x0N",
        "colab": {
          "base_uri": "https://localhost:8080/"
        },
        "outputId": "b6c1d029-5e58-4f8c-aad8-0d1c81d1ad8e"
      },
      "outputs": [
        {
          "output_type": "stream",
          "name": "stdout",
          "text": [
            "\n",
            "\n",
            "\u001b[1m> Entering new AgentExecutor chain...\u001b[0m\n",
            "\u001b[32;1m\u001b[1;3m\n",
            "Invoking: `Search` with `company that acquired MosaicML`\n",
            "\n",
            "\n",
            "\u001b[0m\u001b[36;1m\u001b[1;3mDatabricks\u001b[0m\u001b[32;1m\u001b[1;3mDatabricks acquired MosaicML.\u001b[0m\n",
            "\n",
            "\u001b[1m> Finished chain.\u001b[0m\n",
            "\n",
            "\n",
            "\u001b[1m> Entering new AgentExecutor chain...\u001b[0m\n",
            "\u001b[32;1m\u001b[1;3mThe best way to travel from New York City (NYC) to Los Angeles (LA) depends on your preferences for cost, time, and comfort. Here are some common ways to travel between the two cities:\n",
            "\n",
            "1. **By Air**: The fastest way to travel from NYC to LA is by taking a direct flight. There are multiple airlines that operate flights between John F. Kennedy International Airport (JFK) in NYC and Los Angeles International Airport (LAX) in LA. The flight duration is around 5 to 6 hours.\n",
            "\n",
            "2. **By Train**: You can also consider taking an Amtrak train from NYC to LA. The Amtrak's \"Southwest Chief\" route runs between New York Penn Station and Union Station in Los Angeles. This option is more scenic but takes longer than flying.\n",
            "\n",
            "3. **By Bus**: If you're looking for a budget-friendly option, you can take a long-distance bus from NYC to LA. Companies like Greyhound and Megabus offer bus services between the two cities, but the journey can take several days.\n",
            "\n",
            "4. **By Car**: Driving from NYC to LA is another option if you enjoy road trips and want the flexibility to make stops along the way. The journey is approximately 2,800 miles and can take around 40 hours of driving time.\n",
            "\n",
            "Consider factors like cost, time, comfort, and convenience when choosing the best way to travel from NYC to LA.\u001b[0m\n",
            "\n",
            "\u001b[1m> Finished chain.\u001b[0m\n",
            "\n",
            "\n",
            "\u001b[1m> Entering new AgentExecutor chain...\u001b[0m\n",
            "\u001b[32;1m\u001b[1;3mThe change in the exchange rate during 2021 can have an impact on the stock price of US-based companies in various ways. Here are a few ways in which exchange rate changes can affect stock prices:\n",
            "\n",
            "1. **Export and Import Costs**: A stronger US dollar can make US exports more expensive for foreign buyers, potentially reducing demand for US products and impacting the stock prices of companies that rely heavily on exports. Conversely, a weaker US dollar can make US exports more competitive in international markets, potentially boosting stock prices of exporting companies.\n",
            "\n",
            "2. **International Revenue**: US-based companies that generate a significant portion of their revenue from international markets may see fluctuations in their stock prices due to changes in exchange rates. A stronger US dollar can reduce the value of international revenue when converted back to US dollars, while a weaker US dollar can increase the value of international revenue.\n",
            "\n",
            "3. **Cost of Raw Materials**: US companies that rely on imported raw materials may see changes in their production costs due to exchange rate fluctuations. This can impact their profitability and, in turn, their stock prices.\n",
            "\n",
            "4. **Investor Sentiment**: Exchange rate changes can also influence investor sentiment and market dynamics, leading to fluctuations in stock prices of US-based companies.\n",
            "\n",
            "To get a more specific analysis of how the exchange rate changes during 2021 affected the stock prices of US-based companies, we can look at the performance of individual stocks or indices over that period. Would you like me to provide you with the performance of specific US-based companies or indices during 2021?\u001b[0m\n",
            "\n",
            "\u001b[1m> Finished chain.\u001b[0m\n",
            "\n",
            "\n",
            "\u001b[1m> Entering new AgentExecutor chain...\u001b[0m\n",
            "\u001b[32;1m\u001b[1;3m\n",
            "Invoking: `get_stock_performance` with `{'ticker': 'GOOGL', 'days': 30}`\n",
            "\n",
            "\n",
            "\u001b[0m\u001b[38;5;200m\u001b[1;3m{'percent_change': -3.686100403757611}\u001b[0m\u001b[32;1m\u001b[1;3m\n",
            "Invoking: `get_stock_performance` with `{'ticker': 'MSFT', 'days': 30}`\n",
            "\n",
            "\n",
            "\u001b[0m\u001b[38;5;200m\u001b[1;3m{'percent_change': 2.34977897950882}\u001b[0m\u001b[32;1m\u001b[1;3mIn the past 30 days, Google (GOOGL) stock has decreased by 3.69%, while Microsoft (MSFT) stock has increased by 2.35%.\u001b[0m\n",
            "\n",
            "\u001b[1m> Finished chain.\u001b[0m\n",
            "\n",
            "\n",
            "\u001b[1m> Entering new AgentExecutor chain...\u001b[0m\n",
            "\u001b[32;1m\u001b[1;3m\n",
            "Invoking: `Search` with `highest market cap airline that flies from Los Angeles to New York City`\n",
            "responded: I can help you find the highest market cap airline that flies from Los Angeles to New York City. Let me look up the information for you.\n",
            "\n",
            "\u001b[0m\u001b[36;1m\u001b[1;3m['Name, M. Cap, Price, 1d, Price (30 days), C. favorite icon, 1. Ryanair logo. Ryanair. 1RYAAY. $31.65 B. $138.83. 0.04%. 0.04%, Ireland. favorite icon ...', 'With approximately 14 million scheduled seats, JetBlue (B6) has established itself as one of the prominent airlines in New York City. Renowned ...', 'Delta Air Lines ranks first by revenue, total assets, market capitalization, and brand value. American Airlines Group ranks first by number of employees and ...', \"According to data from Cirium's Diio, Southwest Airlines leads the way (measured by total seats this quarter). Measured by available seat miles ...\", 'The top shareholders of American Airlines are W. Douglas Parker, Robert D. Isom, Stephen L. Johnson, Vanguard Group, Primecap Management Company, and ...', '6. American Airlines: New York (JFK) - Los Angeles (LAX) ... The flagship domestic route for American Airlines earned it $661,739,788 during the ...', 'Delta has hubs in Boston, Detroit, Los Angeles, Minneapolis / St Paul, New York, Salt Lake City, and Seattle in the US, as well as Amsterdam in ...', '1. Etihad Guest Makes It Easy to Fly American Airlines · 2. Book Delta Air Lines Tickets With Virgin Atlantic · 3. Use Star Alliance Partners To ...', 'Four airlines headquartered in the U.S. are amongst the top ranks of the largest airlines by passengers in 2022.', 'Delta and United beat out American in several critical areas of service and experience, with Delta leading overall. JT Genter. By JT Genter.']\u001b[0m\u001b[32;1m\u001b[1;3mThe airline with the highest market cap that flies from Los Angeles to New York City is Delta Air Lines. Delta Air Lines ranks first by revenue, total assets, market capitalization, and brand value.\u001b[0m\n",
            "\n",
            "\u001b[1m> Finished chain.\u001b[0m\n",
            "\n",
            "\n",
            "\u001b[1m> Entering new AgentExecutor chain...\u001b[0m\n",
            "\u001b[32;1m\u001b[1;3m\n",
            "Invoking: `get_current_stock_price` with `{'ticker': 'AAPL'}`\n",
            "\n",
            "\n",
            "\u001b[0m\u001b[33;1m\u001b[1;3m{'price': 171.1300048828125, 'currency': 'USD'}\u001b[0m\u001b[32;1m\u001b[1;3mThe company with the highest stock price is Apple Inc. (AAPL) and their current stock price is $171.13 USD.\u001b[0m\n",
            "\n",
            "\u001b[1m> Finished chain.\u001b[0m\n"
          ]
        }
      ],
      "source": [
        "# wrapped agent can act as context manager\n",
        "with tru_agent as recording:\n",
        "    for prompt in prompts:\n",
        "        agent(prompt)"
      ]
    },
    {
      "cell_type": "markdown",
      "metadata": {
        "id": "CGq-mvEH4x0N"
      },
      "source": [
        "## Explore in a Dashboard"
      ]
    },
    {
      "cell_type": "code",
      "execution_count": null,
      "metadata": {
        "id": "uK30laxP4x0N",
        "colab": {
          "base_uri": "https://localhost:8080/"
        },
        "outputId": "2a02e6a3-469a-4aab-b521-46881e2015be"
      },
      "outputs": [
        {
          "output_type": "stream",
          "name": "stdout",
          "text": [
            "Starting dashboard ...\n",
            "npx: installed 22 in 4.126s\n",
            "\n",
            "Go to this url and submit the ip given here. your url is: https://pink-pans-live.loca.lt\n",
            "\n",
            "  Submit this IP Address: 35.237.211.80\n",
            "\n"
          ]
        },
        {
          "output_type": "execute_result",
          "data": {
            "text/plain": [
              "<Popen: returncode: None args: ['streamlit', 'run', '--server.headless=True'...>"
            ]
          },
          "metadata": {},
          "execution_count": 32
        }
      ],
      "source": [
        "tru.run_dashboard() # open a local streamlit app to explore\n",
        "\n",
        "# tru.stop_dashboard() # stop if needed"
      ]
    },
    {
      "cell_type": "markdown",
      "metadata": {
        "id": "OvSvAUhV4x0O"
      },
      "source": [
        "Alternatively, you can run `trulens-eval` from a command line in the same folder to start the dashboard."
      ]
    }
  ],
  "metadata": {
    "kernelspec": {
      "display_name": "Python 3.11.4 ('agents')",
      "language": "python",
      "name": "python3"
    },
    "language_info": {
      "codemirror_mode": {
        "name": "ipython",
        "version": 3
      },
      "file_extension": ".py",
      "mimetype": "text/x-python",
      "name": "python",
      "nbconvert_exporter": "python",
      "pygments_lexer": "ipython3",
      "version": "3.11.5"
    },
    "vscode": {
      "interpreter": {
        "hash": "7d153714b979d5e6d08dd8ec90712dd93bff2c9b6c1f0c118169738af3430cd4"
      }
    },
    "colab": {
      "provenance": []
    }
  },
  "nbformat": 4,
  "nbformat_minor": 0
}